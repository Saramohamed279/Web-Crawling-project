{
 "cells": [
  {
   "cell_type": "code",
   "execution_count": 2,
   "metadata": {},
   "outputs": [
    {
     "data": {
      "text/plain": [
       "<Response [200]>"
      ]
     },
     "execution_count": 2,
     "metadata": {},
     "output_type": "execute_result"
    }
   ],
   "source": [
    "import requests\n",
    "resp = requests.get(\"https://www.youm7.com/story/2021/9/3/%D8%AA%D8%AF%D8%A7%D9%88%D9%84-%D8%A7%D9%84%D9%85%D9%86%D8%AA%D8%AC%D8%A7%D8%AA-%D8%A8%D8%A7%D9%84%D8%A8%D9%88%D8%B1%D8%B5%D8%A9-%D8%A7%D9%84%D8%B3%D9%84%D8%B9%D9%8A%D8%A9-%D9%8A%D9%86%D8%B7%D9%84%D9%82-%D8%A8%D8%A7%D9%84%D8%B1%D8%A8%D8%B9-%D8%A7%D9%84%D8%A3%D9%88%D9%84-%D9%85%D9%86-2022-%D9%87%D8%AF%D9%81%D9%87%D8%A7/5447650\")\n",
    "resp"
   ]
  },
  {
   "cell_type": "code",
   "execution_count": 5,
   "metadata": {},
   "outputs": [],
   "source": [
    "data = resp.text"
   ]
  },
  {
   "cell_type": "code",
   "execution_count": 8,
   "metadata": {},
   "outputs": [],
   "source": [
    "#!pip install bs4\n",
    "from bs4 import BeautifulSoup"
   ]
  },
  {
   "cell_type": "code",
   "execution_count": 9,
   "metadata": {},
   "outputs": [],
   "source": [
    "soup = BeautifulSoup(data)"
   ]
  },
  {
   "cell_type": "code",
   "execution_count": 10,
   "metadata": {},
   "outputs": [
    {
     "data": {
      "text/plain": [
       "<title>تداول المنتجات بالبورصة السلعية ينطلق بالربع الأول من 2022.. هدفها تقليل حلقات تسليم السلع لتخفيض الأسعار.. وعقد توأمة مع بورصة بيلاروسيا للاستفادة من خبراتها.. وحسن السمعة شرط قيد الشركات مع تشجيع صغار التجار - اليوم السابع</title>"
      ]
     },
     "execution_count": 10,
     "metadata": {},
     "output_type": "execute_result"
    }
   ],
   "source": [
    "soup.title"
   ]
  },
  {
   "cell_type": "code",
   "execution_count": 12,
   "metadata": {},
   "outputs": [],
   "source": [
    "title = soup.title.text"
   ]
  },
  {
   "cell_type": "code",
   "execution_count": 22,
   "metadata": {},
   "outputs": [],
   "source": [
    "image = soup.find('div',attrs={'class':'img-cont'}).find('img')['src']"
   ]
  },
  {
   "cell_type": "code",
   "execution_count": 36,
   "metadata": {},
   "outputs": [
    {
     "data": {
      "text/plain": [
       "'مدحت وهبة'"
      ]
     },
     "execution_count": 36,
     "metadata": {},
     "output_type": "execute_result"
    }
   ],
   "source": [
    "writer = soup.find('span',attrs={'class':'writeBy'}).text.replace('كتب','').strip()\n",
    "writer"
   ]
  },
  {
   "cell_type": "code",
   "execution_count": 31,
   "metadata": {},
   "outputs": [
    {
     "data": {
      "text/plain": [
       "'مدحت وهبة'"
      ]
     },
     "execution_count": 31,
     "metadata": {},
     "output_type": "execute_result"
    }
   ],
   "source": [
    "' '.join(writer.split()[1:])"
   ]
  },
  {
   "cell_type": "code",
   "execution_count": 34,
   "metadata": {},
   "outputs": [
    {
     "data": {
      "text/plain": [
       "'مدحت وهبة'"
      ]
     },
     "execution_count": 34,
     "metadata": {},
     "output_type": "execute_result"
    }
   ],
   "source": [
    "writer[3:].strip()"
   ]
  },
  {
   "cell_type": "code",
   "execution_count": 35,
   "metadata": {},
   "outputs": [
    {
     "data": {
      "text/plain": [
       "'مدحت وهبة'"
      ]
     },
     "execution_count": 35,
     "metadata": {},
     "output_type": "execute_result"
    }
   ],
   "source": [
    "writer.replace('كتب','').strip()"
   ]
  },
  {
   "cell_type": "code",
   "execution_count": 43,
   "metadata": {},
   "outputs": [
    {
     "data": {
      "text/plain": [
       "',البورصة السلعية  ,بورصة سلع بيلاروسيا  ,بورصة السلع المصرية  ,وزارة التموين  '"
      ]
     },
     "execution_count": 43,
     "metadata": {},
     "output_type": "execute_result"
    }
   ],
   "source": [
    "tags = ''\n",
    "for a in soup.find('div',attrs={'class':'tags'}).findAll('a'):\n",
    "    tags += ','+a.text\n",
    "    \n",
    "tags"
   ]
  },
  {
   "cell_type": "code",
   "execution_count": 46,
   "metadata": {},
   "outputs": [
    {
     "data": {
      "text/plain": [
       "'البورصة السلعية,بورصة سلع بيلاروسيا,بورصة السلع المصرية,وزارة التموين'"
      ]
     },
     "execution_count": 46,
     "metadata": {},
     "output_type": "execute_result"
    }
   ],
   "source": [
    "tags = []\n",
    "for a in soup.find('div',attrs={'class':'tags'}).findAll('a'):\n",
    "    tags.append(a.text.strip())\n",
    "    \n",
    "','.join(tags)"
   ]
  },
  {
   "cell_type": "code",
   "execution_count": 49,
   "metadata": {},
   "outputs": [],
   "source": [
    "tags = soup.find('meta',attrs={'name':'keywords'})['content']"
   ]
  },
  {
   "cell_type": "code",
   "execution_count": 63,
   "metadata": {},
   "outputs": [],
   "source": [
    "article = soup.find('div',attrs={'id':'articleBody'}).text"
   ]
  },
  {
   "cell_type": "code",
   "execution_count": 64,
   "metadata": {},
   "outputs": [],
   "source": [
    "article = article.replace('\\n','').replace('\\t','').replace('\\r','').replace('\\xa0','').replace('\\u200f','')"
   ]
  },
  {
   "cell_type": "code",
   "execution_count": 62,
   "metadata": {},
   "outputs": [
    {
     "data": {
      "text/plain": [
       "'نجحت الحكومة\\xa0 في تأسيس البورصة السلعية المصرية لتقليل حلقات تداول المنتجات والسلع بين الوسطاء بما يضمن انخفاض تكاليف النقل الأمر الذى سينعكس على السعر النهائي للمنتج ، حيث تهدف البورصة السلعية إلى تقليل حلقات تداول السلع بين المزارعين والمنتجين وصولا إلى يد المستهلك، ويستطيع البائع\" مزارع أو تاجر أو منتج \"إيداع السلع داخل المخازن المعتمدة من قبل وزارة التموين بعد تصنيفها وإعطاء درجة لجودتها ليتم تداولها مباشرة على المنصة الإلكترونية للبورصة التي تعرض الكميات المتاحة من كل سلعة على شاشات البورصة لتتحكم آليات وقوى العرض والطلب بين البائع والمشترى في تحديد سعر تلك السلع لصالح المستهلك مما سنعكس بشكل إيجابي على أسعار السلع والمنتجات ومن المقرر أن يبدا أول تدول للسع فى\\xa0 البورصة السلعية اعتبارا من الربع الاول من عام 2022\\xa0 .  ويأتى ذلك فى الوقت الذى أكد فيه\\xa0 الدكتور على المصيلحى وزير التموين والتجارة الداخلية أن البورصة السلعية ستوفر قدراً من الحماية لصغار المزارعين والمنتجين عن طريق جمع إنتاجهم وتصنيفه، وإتاحته على كافة المتعاملين على منصة البورصة، في شكل سوق منظم على النحو الذى يساهم فى زيادة القدرة التنافسية لصغار المزارعين والمنتجين، لافتا الى أن البورصة السلعية تعد جزءا من البنية التحتية لمنظومة التجارة الداخلية، كما أنها سوف تشجع صغار التجار بدخولهم ضمن منظومة التجارة المنظمة، مما سينعكس على أسعار السلع لصالح المستهلك والمنتج خاصة مع تقليل حلقات تداول السلع بين الوسطاء، وأن ذلك يأتي وفقاً لتوجيهات القيادة السياسية بشأن ضبط الأسواق وتوفير السلع ومنها السلع الغذائية وغيرها من سلع أخرى.  وأضاف الوزير أن الزيارة الأخيرة\\xa0 لدولة بيلاروسيا جاءت فى إطار تعزيز العلاقات الاقتصادية والتجارية بين البلدين وتم زيارة مقر بورصة بيلاروسيا، للاستفادة من خبراتهم\\xa0 الطويلة في مجال البورصات السلعية على مدار 16 عاما، حيث وصلو الى أن حجم التداول سنوى 2.3 مليار \\u200fدولار.  من جانبه أوضح الدكتور إبراهيم عشماوى مساعد أول وزير التموين ورئيس جهاز تنمية التجارة الداخلية ورئيس البورصة السلعية المصرية، أنه تم خلال موسم القمح الماضي انه تم إجراء\\xa0 تسوية الكترونية للقمح في نحو 450 مركز وتم تسجيل كافة الأقماح الموردة من التجار الى الموردين ،لافتا الى أن الموسم المقبل يسشهد تسجيل كافة الكميات الموردة لمناطق التجميع الكترونيا مؤكدا أن البورصة السلعية ليست بورصة سلع زراعية فقط، ولكن سيكون هناك سلع أخرى ،لافتا الى أنه جاري دراسة السلع التى سيتم تداولها فى المراحل الأولى كما سيتم عقد توأمة مع بورصة سلع بيلاروسيا للاستفادة من خبراتها في قواعد البيانات، واشتراطات العضوية في البورصة السلعية ،وكذلك نسب العمولة في حجم التداول واشتراطات تسجيل الشركات، حيث أن بورصة سلع بيلاروسيا من بورصة كبيرة ويبلغ حجم تعاملاتها نحو 3ر2 مليار دولار سنويا، وتشترك بها الكثير من الشركات.  وأضاف عشماوي\\xa0 أن السلع التى سيتم تداولها بالبورصة السلعية، لابد أن تكون منتجات\\xa0 حاضرة، وقابلة للتخزين، وسيتم التأمين على السلع ، كما أنه يشترط للشركات المقيدة أن تكون حسنة السمعة وذات ملائمة مالية وحجم تعاملات قوى مؤكدا أن البورصة السلعية ستشجع صغار التجار على دخول\\xa0 ضمن منظومة التجارة المنظمة، مما سينعكس على أسعار السلع لصالح المستهلك والمنتج خاصة مع تقليل حلقات تداول السلع بين الوسطاء. '"
      ]
     },
     "execution_count": 62,
     "metadata": {},
     "output_type": "execute_result"
    }
   ],
   "source": [
    "article = []\n",
    "for t in soup.find('div',attrs={'id':'articleBody'}).findAll('div'):\n",
    "    article.append(t.text.strip())\n",
    "    \n",
    "    \n",
    "' '.join(article)"
   ]
  },
  {
   "cell_type": "code",
   "execution_count": 87,
   "metadata": {},
   "outputs": [],
   "source": [
    "def get_article_details(url):\n",
    "    data    = requests.get(url).text\n",
    "    soup    = BeautifulSoup(data)    \n",
    "    title   = soup.title.text\n",
    "    image   = soup.find('div',attrs={'class':'img-cont'}).find('img')['src']\n",
    "    writer  = soup.find('span',attrs={'class':'writeBy'}).text.replace('كتبت','').replace('كتب','').strip()\n",
    "    tags    = soup.find('meta',attrs={'name':'keywords'})['content']\n",
    "    article = soup.find('div',attrs={'id':'articleBody'}).text\n",
    "    article = article.replace('\\n','').replace('\\t','').replace('\\r','').replace('\\xa0','').replace('\\u200f','')\n",
    "    return {'url':url,\n",
    "            'title':title,\n",
    "            'image':image,\n",
    "            'writer':writer,\n",
    "            'tags':tags,\n",
    "            'article':article}"
   ]
  },
  {
   "cell_type": "code",
   "execution_count": 69,
   "metadata": {},
   "outputs": [
    {
     "data": {
      "text/plain": [
       "('https://www.youm7.com/story/2021/4/12/7-%D8%B3%D9%86%D9%88%D8%A7%D8%AA-%D9%85%D9%86-%D8%A7%D9%84%D9%85%D9%83%D8%A7%D8%B3%D8%A8-%D8%A7%D9%84%D8%B5%D9%86%D8%A7%D8%B9%D9%8A%D8%A9-%D9%81%D9%89-%D8%B9%D9%87%D8%AF-%D8%A7%D9%84%D8%B1%D8%A6%D9%8A%D8%B3-%D8%A7%D9%84%D8%B3%D9%8A%D8%B3%D9%89-%D8%A7%D8%B3%D8%AA%D8%B1%D8%A7%D8%AA%D9%8A%D8%AC%D9%8A%D8%A9/5278253',\n",
       " '7 سنوات من المكاسب الصناعية فى عهد الرئيس السيسى.. استراتيجية إحياء الصناعة الوطنية بأكثر من 4 آلاف مصنع جديد للاستثمار فى القطاعات الحيوية.. تدشين 5 مدن صناعية عملاقة.. وإحكام منظومة الاستيراد العشوائى - اليوم السابع',\n",
       " 'https://img.youm7.com/large/201807030126172617.jpg',\n",
       " 'إسلام سعيد',\n",
       " 'إنجازات الرئيس,الرئيس السيسي,الصناعة الوطنية,اخبار الاقتصاد,مصانع جديدة',\n",
       " 'تتبنى الدولة خططًا طموحة من أجل دعم الصناعة الوطنية، وذلك عن طريق تدشين 4317 مصنعا بالقطاعات الصناعية المختلفة موزعة بين محافظات الجمهورية، تراعي الميزة النسبية التي تشتهر بها كل محافظة من المحافظات.وشهدت الفترة الماضية، تدشين أكبر مدينة لصناعة الأثاث في دمياط بمساحة تتخطي 330 فدانا تضم أحد أهم القطاعات الاقتصادية في مصر، وتلبي احتياجات السوق المحلية وتوجيه الانتاج للتصدير، كما يجري تدشين مدينة للنسيج في السادات بالمنوفية والتي تقام على مساحة 3.1 مليون متر باستثمارات مصرية وشراكة صينية.وتم الانتهاء من تشغيل مدينة الروبيكى للجلود على مساحة 160 فدانا، وبدء المرحلة الثانية بدمياط، ومدينتين للنسيج فى بدر، إلى جانب المجمعات الصناعية الصغيرة فى مدن السادات وجنوب الرسوة وغيرها، وذلك للحد من الاستيراد العشوائى، وفتح الطريق أمام الصناعة الوطنية، ليصل إجمالي المصانع الصغيرة التي يجرى تدشينها أكثر من 4 آلاف مصنع.وخلال هذا الأسبوع تم توقيع العقود النهائية وتسليم الوحدات الصناعية الجاهزة للمستثمرين بالـ 7 مجمعات صناعية والتي تم طرحها بـ 7 محافظات تشمل الغربية والإسكندرية وبني سويف والبحر الأحمر وسوهاج والأقصر والمنيا، ضمن تنفيذ المبادرة الرئاسية لدعم قطاع الصناعات الصغيرة والمتوسطة وتوفير مجمعات صناعية كاملة المرافق والتجهيزات لشباب الاعمال لتعميق التصنيع المحلي ورفع القيمة المضافة وتوفير فرص عمل للشباب في كافة محافظات الجمهورية.ويجرى حالياً الانتهاء من تنفيذ 13 مجمعا، بـ 12 محافظة، 9 منها فى صعيد مصر، وسوف يتم الانتهاء منها مع نهاية العام الجاري، وقد تم الانتهاء من عدد كبير منها بل وتسليم وحدات للمستثمرين، وتضم أكثر من 4317 مصنعا، وفق خطة وزارة لصناعة لتعميق الصناعة ستسهم فى ارتفاع معدلات الناتج الصناعي، خاصة فى ظل توجه كثير من المصانع لتعميق الصناعة.ويؤكد القطاع الخاص الصناعى في مصر، أن مصر قادرة على تحقيق قفزة صناعية واقتصادية كبرى خلال الفترة المقبلة، فى ظل ما تتمتع به من ميزات كبيرة توفر مناخا صناعيا واستثماريا جيدا، يساعد على النمو، وفى ظل الإجراءات التى تتخذها الدولة وتحوذ بها ثقة المؤسسات والحكومات الأجنبية فى الاقتصاد المصرى.ونجحت وزارة الصناعة خلال الـ 6 سنوات الماضية فى إنشاء 17 مجمعا صناعيا بـ 15 محافظة على مستوى الجمهورية بتكلفة استثمارية اجمالية بلغت حوالى 10 مليارات جنيه، كما تم إنشاء 3 مدن صناعية جديدة شملت مدينة الجلود بالروبيكى على مساحة 511 فدانا (تم الانتهاء من المرحلة الأولى) ومدينة الأثاث الجديدة بدمياط على مساحة 331 فدانا (تم افتتاحها) بالإضافة إلى مدينة النسيج الجديدة بالسادات على مساحة 3 ملايين متر (جار الإنشاء)، وفق تقرير إنجازات وزارة الصناعة.ومن ضمن العوائد الضخمة التي تعود على الاقتصاد المصرى، من مشروعات إنشاء 13 مجمعا صناعيا فى محافظات متفرقة، لعل أهمها توفير 43 ألف فرصة عمل مباشرة جديدة للشباب، الأمر الذى يساهم فى خفض البطالة، إضافة إلى إتاحة وتوفير منتجات جديدة للسوق الداخلى ومن ثم تقليل الاعتماد على المنتجات المستوردة، وتقليل الضغط على العملة الصعبة.كما تعتبر المجمعات الجديدة أحد وسائل القطاع الصناعى، لتعميق المكون المحلى فى الصناعات، وعدم الاعتماد على مكونات ومدخلات إنتاجية من الخارج من خلال إيجاد البدائل المحلية لها.وتنتشر المجمعات الجديدة فى محافظات «الغربية، والبحيرة، والإسكندرية، والفيوم، وبنى سويف، والمنيا، وأسيوط، والبحر الأحمر، وسوهاج، وقنا، والأقصر، وأسوان»، لعدد من المجالات على رأسها المفروشات والملابس الجاهزة، والصناعات البلاستيكية، والغذائية، والهندسية والكيماوية البسيطة، ومواد البناء، وعدد آخر من القطاعات التى تسعى الحكومة لزيادة إنتاجها فى السوق المحلية وتوجيه الفائض نحو التصدير، وتقليص وارداتها بهدف توفير العملة الصعبة.ونجحت الحكومة أمس في توقيع الدفعة الأولى من العقود النهائية مع 23 مستثمرا مخصصا لهم 51 وحدة صناعية بمجمع المحلة الكبرى بالغربية، كما تم تسليم خطابات التخصيص لمستثمري 7 مجمعات صناعية جديدة الشهر الماضي وذلك تمهيدا لإنهاء كافة الأوراق والإجراءات اللازمة لتوقيع العقود وتسليم الوحدات.')"
      ]
     },
     "execution_count": 69,
     "metadata": {},
     "output_type": "execute_result"
    }
   ],
   "source": [
    "get_article_details('https://www.youm7.com/story/2021/4/12/7-%D8%B3%D9%86%D9%88%D8%A7%D8%AA-%D9%85%D9%86-%D8%A7%D9%84%D9%85%D9%83%D8%A7%D8%B3%D8%A8-%D8%A7%D9%84%D8%B5%D9%86%D8%A7%D8%B9%D9%8A%D8%A9-%D9%81%D9%89-%D8%B9%D9%87%D8%AF-%D8%A7%D9%84%D8%B1%D8%A6%D9%8A%D8%B3-%D8%A7%D9%84%D8%B3%D9%8A%D8%B3%D9%89-%D8%A7%D8%B3%D8%AA%D8%B1%D8%A7%D8%AA%D9%8A%D8%AC%D9%8A%D8%A9/5278253')"
   ]
  },
  {
   "cell_type": "code",
   "execution_count": 70,
   "metadata": {},
   "outputs": [],
   "source": [
    "data = requests.get('https://www.youm7.com/Section/%D8%A3%D8%AE%D8%A8%D8%A7%D8%B1-%D8%A7%D9%84%D8%B1%D9%8A%D8%A7%D8%B6%D8%A9/298/2').text"
   ]
  },
  {
   "cell_type": "code",
   "execution_count": 71,
   "metadata": {},
   "outputs": [
    {
     "data": {
      "text/plain": [
       "<title>أخبار الرياضة - اليوم السابع</title>"
      ]
     },
     "execution_count": 71,
     "metadata": {},
     "output_type": "execute_result"
    }
   ],
   "source": [
    "soup = BeautifulSoup(data)\n",
    "soup.title"
   ]
  },
  {
   "cell_type": "code",
   "execution_count": 78,
   "metadata": {},
   "outputs": [
    {
     "data": {
      "text/plain": [
       "['https://youm7.com/story/2021/9/2/الاهلي-يكشف-عرض-أكرم-توفيق-على-طبيب-تجميل-وتصنيع-ماسك/5447731',\n",
       " 'https://youm7.com/story/2021/9/2/نور-الشربينى-لاعبة-شهر-أغسطس-بعد-تتويجها-ببطولة-بريطانيا-للأسكواش/5447772',\n",
       " 'https://youm7.com/story/2021/9/2/صلاح-والننى-يشاركان-مع-منتخب-مصر-أمام-الجابون/5447595',\n",
       " 'https://youm7.com/story/2021/9/2/الأندية-ترفض-مجموعة-الشركات-بالممتاز-ب-وهبوط-4-فرق-نهاية/5447631',\n",
       " 'https://youm7.com/story/2021/9/2/الإصابة-تمنع-محمد-النني-من-المشاركة-مع-منتخب-مصر-أمام/5447931',\n",
       " 'https://youm7.com/story/2021/9/2/7-أخبار-رياضية-لا-تفوتك-اليوم/5447256',\n",
       " 'https://youm7.com/story/2021/9/2/شاهد-لحظة-انسحاب-محمد-الزيات-فى-النهائى-بقرار-من-طبيب/5447649',\n",
       " 'https://youm7.com/story/2021/9/2/المقاولون-يرفض-عرض-المصرى-ويتمسك-بإدوارد/5447785',\n",
       " 'https://youm7.com/story/2021/9/2/المانيا-وكندا-تحصدان-ذهبية-المطاردة-والاسكراتش-ببطولة-العالم-للدراجات/5447934',\n",
       " 'https://youm7.com/story/2021/9/2/على-معلول-يغازل-زوجته-فى-عيد-زواجهما-6-سنين-من/5447941',\n",
       " 'https://youm7.com/story/2021/9/2/فوز-روسيا-وأمريكا-بذهبية-المطاردة-والإقصاء-ببطولة-العالم-للدراجات/5447994',\n",
       " 'https://youm7.com/story/2021/9/2/تأكيدا-لـ-اليوم-السابع-الزمالك-يعلن-الموعد-الرسمى-لانتخاب-مجلس/5447970',\n",
       " 'https://youm7.com/story/2021/9/2/استبعاد-رمضان-صبحى-من-بعثة-المنتخب-للإصابة/5447687',\n",
       " 'https://youm7.com/story/2021/9/2/عبدالله-عفيفى-يتأهل-لنهائى-الاسكراتش-ببطولة-العالم-للدراجات/5447860',\n",
       " 'https://youm7.com/story/2021/9/2/سلبية-مسحة-رامى-صبري-مدافع-إنبى/5448006',\n",
       " 'https://youm7.com/story/2021/9/2/راحة-إضافة-لمدة-48-ساعة-فى-سموحة-بعد-تأجيل-قرعة/5447925',\n",
       " 'https://youm7.com/story/2021/9/2/حسين-لبيب-الزمالك-لا-يتعرض-لمؤامرة-وتلقيت-تهنئة-من-أعضاء/5448014',\n",
       " 'https://youm7.com/story/2021/9/2/النحاس-يحصل-على-وعد-من-المقاولون-بضم-صفقات-قوية-قبل/5447791',\n",
       " 'https://youm7.com/story/2021/9/2/الزمالك-يمدد-عقد-أيمن-حفنى-موسما-جديدا/5447613',\n",
       " 'https://youm7.com/story/2021/9/2/أخبار-الزمالك-اليوم-الخميس-2-9-2021/5447882',\n",
       " 'https://youm7.com/story/2021/9/2/الاتحاد-السكندري-يضم-الأمريكي-بوستيك-لتدعيم-فريق-السلة-فى-البطولة/5447989',\n",
       " 'https://youm7.com/story/2021/9/2/خالد-الغندور-48-ساعة-على-إعلان-أهم-صفقات-الزمالك/5447798',\n",
       " 'https://youm7.com/story/2021/9/2/حادث-تصادم-يطيح-بمنتخب-ألمانيا-من-سباق-سبرنت-ببطولة-العالم/5447856',\n",
       " 'https://youm7.com/story/2021/9/2/الزمالك-يتحرك-لضم-عبد-الله-السعيد-من-بيراميدز-بعد-ترحيب/5447807',\n",
       " 'https://youm7.com/story/2021/9/2/تعرف-على-موعد-عودة-الأهلى-من-المغرب-بعد-حصد-لقب/5447876',\n",
       " 'https://youm7.com/story/2021/9/2/شاهد-محمد-الزيات-يتزين-بعلم-مصر-لحظة-تتويجه-بالميدالية-الفضية/5447671',\n",
       " 'https://youm7.com/story/2021/9/2/رسميا-البنك-الأهلى-يضم-محمد-هلال-وأحمد-سعيد-من-وادى/5447972',\n",
       " 'https://youm7.com/story/2021/9/2/شاهد-كهربا-يقضى-إجازته-مع-العائلة-على-أحد-الشواطئ/5447835',\n",
       " 'https://youm7.com/story/2021/9/2/الأهلي-يكشف-حقيقة-إعارة-طاهر-محمد-طاهر-وبانون-فى-الصيف/5447688',\n",
       " 'https://youm7.com/story/2021/9/2/طارق-العشرى-منتخب-مصر-سيتصدّر-مجموعته-فى-تصفيات-المونديال/5447813',\n",
       " 'https://youm7.com/story/2021/9/2/يد-الزمالك-يدخل-معسكرا-مغلقا-الثلاثاء-استعدادا-للسوبر-الأفريقى/5447182',\n",
       " 'https://youm7.com/story/2021/9/2/فيفا-يهنئ-الزمالك-على-التتويج-بالدورى/5447977',\n",
       " 'https://youm7.com/story/2021/9/2/هل-يرفض-موسيمانى-الاستعانة-بجهاز-معاون-مصرى-بعد-رحيل-مساعديه/5447590',\n",
       " 'https://youm7.com/story/2021/9/2/ماذا-يحتاج-المنتخب-فنيا-لتصحيح-أوضاعه-محمد-صلاح-وظهير-أيمن/5447579',\n",
       " 'https://youm7.com/story/2021/9/2/تأكيداً-لليوم-السابع-المقاولون-يعلن-تعاقده-مع-مامدو-نياس-3/5447961',\n",
       " 'https://youm7.com/story/2021/9/2/النصر-يخسر-من-بلدية-المحلة-1-2-ودياً-قبل-إنطلاق/5447927',\n",
       " 'https://youm7.com/story/2021/9/2/البنك-الأهلى-يجدد-عقد-خالد-جلال-لمدة-موسم/5447866',\n",
       " 'https://youm7.com/story/2021/9/2/معلومة-رياضية-منتخب-الكاميرون-يتوج-بلقب-أفريقيا-2002-مرتديا-قمصان/5447601',\n",
       " 'https://youm7.com/story/2021/9/2/الأهلى-يتوج-بطلا-للكؤوس-الأفريقية-لليد-للمرة-الرابعة/5447853',\n",
       " 'https://youm7.com/story/2021/9/2/البنك-الأهلى-يضم-كريم-بامبو-من-الزمالك-3-سنوات-رسميا/5447859']"
      ]
     },
     "execution_count": 78,
     "metadata": {},
     "output_type": "execute_result"
    }
   ],
   "source": [
    "links = []\n",
    "for a in soup.find('div',attrs={'id':'paging'}).findAll('a'):\n",
    "    links.append('https://youm7.com'+a['href'])\n",
    "    \n",
    "list(set(links))"
   ]
  },
  {
   "cell_type": "code",
   "execution_count": 79,
   "metadata": {},
   "outputs": [],
   "source": [
    "def get_links_from_page(page_no):\n",
    "    data  = requests.get('https://www.youm7.com/Section/%D8%A3%D8%AE%D8%A8%D8%A7%D8%B1-%D8%A7%D9%84%D8%B1%D9%8A%D8%A7%D8%B6%D8%A9/298/'+str(page_no)+'').text    \n",
    "    soup  = BeautifulSoup(data)\n",
    "    links = []\n",
    "    for a in soup.find('div',attrs={'id':'paging'}).findAll('a'):\n",
    "        links.append('https://youm7.com'+a['href'])\n",
    "    return list(set(links))"
   ]
  },
  {
   "cell_type": "code",
   "execution_count": 83,
   "metadata": {},
   "outputs": [],
   "source": [
    "links = get_links_from_page(3)"
   ]
  },
  {
   "cell_type": "code",
   "execution_count": 88,
   "metadata": {},
   "outputs": [],
   "source": [
    "import pandas as pd\n",
    "df = pd.DataFrame()\n",
    "for link in links:\n",
    "    new_df = pd.DataFrame(get_article_details(link),index=[0])\n",
    "    df     = pd.concat([df,new_df],ignore_index=True)"
   ]
  },
  {
   "cell_type": "code",
   "execution_count": 89,
   "metadata": {},
   "outputs": [
    {
     "data": {
      "text/html": [
       "<div>\n",
       "<style scoped>\n",
       "    .dataframe tbody tr th:only-of-type {\n",
       "        vertical-align: middle;\n",
       "    }\n",
       "\n",
       "    .dataframe tbody tr th {\n",
       "        vertical-align: top;\n",
       "    }\n",
       "\n",
       "    .dataframe thead th {\n",
       "        text-align: right;\n",
       "    }\n",
       "</style>\n",
       "<table border=\"1\" class=\"dataframe\">\n",
       "  <thead>\n",
       "    <tr style=\"text-align: right;\">\n",
       "      <th></th>\n",
       "      <th>url</th>\n",
       "      <th>title</th>\n",
       "      <th>image</th>\n",
       "      <th>writer</th>\n",
       "      <th>tags</th>\n",
       "      <th>article</th>\n",
       "    </tr>\n",
       "  </thead>\n",
       "  <tbody>\n",
       "    <tr>\n",
       "      <th>0</th>\n",
       "      <td>https://youm7.com/story/2021/9/2/محمد-الزيات-ي...</td>\n",
       "      <td>محمد الزيات يجرى أشعة للإطمئنان على إصابته بعد...</td>\n",
       "      <td>https://img.youm7.com/large/202109021256245624...</td>\n",
       "      <td>رسالة طوكيو</td>\n",
       "      <td>محمد الزيات,الباراتيكوندو,البارالمبية,طوكيو 2020</td>\n",
       "      <td>أكد الجهاز الطبى لبعثة الباراتيكوندو برئاسة ال...</td>\n",
       "    </tr>\n",
       "    <tr>\n",
       "      <th>1</th>\n",
       "      <td>https://youm7.com/story/2021/9/2/الأهلى-ينهى-م...</td>\n",
       "      <td>الأهلى ينهى ملف تمديد تعاقد على معلول عقب معسك...</td>\n",
       "      <td>https://img.youm7.com/large/202107251054225422...</td>\n",
       "      <td>ت لبنى عبد الله</td>\n",
       "      <td>على معلول,الاهلى,كورونا,موسيمانى,الدوري,صفقات ...</td>\n",
       "      <td>تنتظر لجنة التعاقدات بالنادى الاهلى عودة التون...</td>\n",
       "    </tr>\n",
       "    <tr>\n",
       "      <th>2</th>\n",
       "      <td>https://youm7.com/story/2021/9/2/محمد-الزيات-ي...</td>\n",
       "      <td>محمد الزيات يتأهل إلى نهائى منافسات الباراتيكو...</td>\n",
       "      <td>https://img.youm7.com/large/20210902120432432.jpg</td>\n",
       "      <td>رسالة طوكيو</td>\n",
       "      <td>محمد الزيات,الباراتيكوندو,البارالمبية,اخبار ال...</td>\n",
       "      <td>تأهل محمد الزيات لاعب المنتخب الوطنى فى التايك...</td>\n",
       "    </tr>\n",
       "    <tr>\n",
       "      <th>3</th>\n",
       "      <td>https://youm7.com/story/2021/9/2/كواليس-غرفة-ا...</td>\n",
       "      <td>كواليس غرفة الملابس.. عبد الظاهر السقا يكشف عن...</td>\n",
       "      <td>https://img.youm7.com/large/20210311070457457.jpg</td>\n",
       "      <td>محمد ربيع</td>\n",
       "      <td>السقا,الجوهري,كواليس غرفة الملابس,الدورى,المنت...</td>\n",
       "      <td>دائمًا ما تشهد غرفة خلع ملابس الأندية العديد م...</td>\n",
       "    </tr>\n",
       "    <tr>\n",
       "      <th>4</th>\n",
       "      <td>https://youm7.com/story/2021/9/2/بيرسى-تاو-ومي...</td>\n",
       "      <td>بيرسى تاو وميكيسونى ينضمان لتدريبات الأهلى بعد...</td>\n",
       "      <td>https://img.youm7.com/large/202108280521262126...</td>\n",
       "      <td>سليمان النقر</td>\n",
       "      <td>بيرسي تاو,لويس ميكيسوني,الاهلي,اخبار الاهلي,صف...</td>\n",
       "      <td>يترقب مسئولو النادي الأهلي وصول الثنائي بيرسي ...</td>\n",
       "    </tr>\n",
       "  </tbody>\n",
       "</table>\n",
       "</div>"
      ],
      "text/plain": [
       "                                                 url  \\\n",
       "0  https://youm7.com/story/2021/9/2/محمد-الزيات-ي...   \n",
       "1  https://youm7.com/story/2021/9/2/الأهلى-ينهى-م...   \n",
       "2  https://youm7.com/story/2021/9/2/محمد-الزيات-ي...   \n",
       "3  https://youm7.com/story/2021/9/2/كواليس-غرفة-ا...   \n",
       "4  https://youm7.com/story/2021/9/2/بيرسى-تاو-ومي...   \n",
       "\n",
       "                                               title  \\\n",
       "0  محمد الزيات يجرى أشعة للإطمئنان على إصابته بعد...   \n",
       "1  الأهلى ينهى ملف تمديد تعاقد على معلول عقب معسك...   \n",
       "2  محمد الزيات يتأهل إلى نهائى منافسات الباراتيكو...   \n",
       "3  كواليس غرفة الملابس.. عبد الظاهر السقا يكشف عن...   \n",
       "4  بيرسى تاو وميكيسونى ينضمان لتدريبات الأهلى بعد...   \n",
       "\n",
       "                                               image           writer  \\\n",
       "0  https://img.youm7.com/large/202109021256245624...      رسالة طوكيو   \n",
       "1  https://img.youm7.com/large/202107251054225422...  ت لبنى عبد الله   \n",
       "2  https://img.youm7.com/large/20210902120432432.jpg      رسالة طوكيو   \n",
       "3  https://img.youm7.com/large/20210311070457457.jpg        محمد ربيع   \n",
       "4  https://img.youm7.com/large/202108280521262126...     سليمان النقر   \n",
       "\n",
       "                                                tags  \\\n",
       "0   محمد الزيات,الباراتيكوندو,البارالمبية,طوكيو 2020   \n",
       "1  على معلول,الاهلى,كورونا,موسيمانى,الدوري,صفقات ...   \n",
       "2  محمد الزيات,الباراتيكوندو,البارالمبية,اخبار ال...   \n",
       "3  السقا,الجوهري,كواليس غرفة الملابس,الدورى,المنت...   \n",
       "4  بيرسي تاو,لويس ميكيسوني,الاهلي,اخبار الاهلي,صف...   \n",
       "\n",
       "                                             article  \n",
       "0  أكد الجهاز الطبى لبعثة الباراتيكوندو برئاسة ال...  \n",
       "1  تنتظر لجنة التعاقدات بالنادى الاهلى عودة التون...  \n",
       "2  تأهل محمد الزيات لاعب المنتخب الوطنى فى التايك...  \n",
       "3  دائمًا ما تشهد غرفة خلع ملابس الأندية العديد م...  \n",
       "4  يترقب مسئولو النادي الأهلي وصول الثنائي بيرسي ...  "
      ]
     },
     "execution_count": 89,
     "metadata": {},
     "output_type": "execute_result"
    }
   ],
   "source": [
    "df.head()"
   ]
  },
  {
   "cell_type": "code",
   "execution_count": 93,
   "metadata": {},
   "outputs": [
    {
     "data": {
      "text/plain": [
       "(360, 6)"
      ]
     },
     "execution_count": 93,
     "metadata": {},
     "output_type": "execute_result"
    }
   ],
   "source": [
    "import pandas as pd\n",
    "df = pd.DataFrame()\n",
    "for i in range(1,10):\n",
    "    for link in get_links_from_page(i):\n",
    "        new_df = pd.DataFrame(get_article_details(link),index=[0])\n",
    "        df     = pd.concat([df,new_df],ignore_index=True)\n",
    "df.shape"
   ]
  },
  {
   "cell_type": "code",
   "execution_count": 94,
   "metadata": {},
   "outputs": [
    {
     "data": {
      "text/html": [
       "<div>\n",
       "<style scoped>\n",
       "    .dataframe tbody tr th:only-of-type {\n",
       "        vertical-align: middle;\n",
       "    }\n",
       "\n",
       "    .dataframe tbody tr th {\n",
       "        vertical-align: top;\n",
       "    }\n",
       "\n",
       "    .dataframe thead th {\n",
       "        text-align: right;\n",
       "    }\n",
       "</style>\n",
       "<table border=\"1\" class=\"dataframe\">\n",
       "  <thead>\n",
       "    <tr style=\"text-align: right;\">\n",
       "      <th></th>\n",
       "      <th>url</th>\n",
       "      <th>title</th>\n",
       "      <th>image</th>\n",
       "      <th>writer</th>\n",
       "      <th>tags</th>\n",
       "      <th>article</th>\n",
       "    </tr>\n",
       "  </thead>\n",
       "  <tbody>\n",
       "    <tr>\n",
       "      <th>0</th>\n",
       "      <td>https://youm7.com/story/2021/9/3/قصة-صور-بيرسي...</td>\n",
       "      <td>قصة صور.. بيرسي تاو اللاعب الذى تحدى المنطق وا...</td>\n",
       "      <td>https://img.youm7.com/large/20210902045001501.jpg</td>\n",
       "      <td>ت أسماء عمر</td>\n",
       "      <td>بيرسى تاو,صن داونز,الاهلى,برياتون,اخبار الاهلى</td>\n",
       "      <td>\"اخترت التاريخ\"، كانت الجملة الأولى التى فسر م...</td>\n",
       "    </tr>\n",
       "    <tr>\n",
       "      <th>1</th>\n",
       "      <td>https://youm7.com/story/2021/9/3/شيكابالا-يُفج...</td>\n",
       "      <td>شيكابالا يُفجر مفاجأة: أيمن حفنى هو من كان سيت...</td>\n",
       "      <td>https://img.youm7.com/large/202108281029342934...</td>\n",
       "      <td>عمرو جاب الله</td>\n",
       "      <td>شيكابالا,الزمالك,نادى الزمالك,اخبار الزمالك ال...</td>\n",
       "      <td>فجر محمود عبد الرازق شيكابالا، قائد الزمالك، م...</td>\n",
       "    </tr>\n",
       "    <tr>\n",
       "      <th>2</th>\n",
       "      <td>https://youm7.com/story/2021/9/3/حارس-يد-الأهل...</td>\n",
       "      <td>حارس يد الأهلى: حققنا كأس الكؤوس الأفريقية عن...</td>\n",
       "      <td>https://img.youm7.com/large/20210903014204424.jpg</td>\n",
       "      <td>محمد تهامى زكى</td>\n",
       "      <td>الاهلى,عصام الطيار,فريق الاهلى الكرة اليد,كاس ...</td>\n",
       "      <td>أعرب محمد عصام الطيار، حارس مرمى النادى الأهلى...</td>\n",
       "    </tr>\n",
       "    <tr>\n",
       "      <th>3</th>\n",
       "      <td>https://youm7.com/story/2021/9/3/سلمى-على-تخسر...</td>\n",
       "      <td>سلمى على تخسر من بطلة العالم فى الباراتايكوندو...</td>\n",
       "      <td>https://img.youm7.com/large/202109030330243024...</td>\n",
       "      <td>رسالة طوكيو</td>\n",
       "      <td>سلمى على,الالعاب البارالمبية,دورة الالعاب البا...</td>\n",
       "      <td>خسرت سلمى على، لاعبة المنتخب الوطنى للتايكوندو...</td>\n",
       "    </tr>\n",
       "    <tr>\n",
       "      <th>4</th>\n",
       "      <td>https://youm7.com/story/2021/9/3/الغندور-يعلن-...</td>\n",
       "      <td>الغندور يعلن قيمة انتقال بامبو من الزمالك للبن...</td>\n",
       "      <td>https://img.youm7.com/large/202007090950485048...</td>\n",
       "      <td>ت أسماء عمر</td>\n",
       "      <td>كريم بامبو,الزمالك,نادى الزمالك,البنك الاهلى,ا...</td>\n",
       "      <td>كشف خالد الغندور نجم الزمالك السابق، عن قيمة ص...</td>\n",
       "    </tr>\n",
       "  </tbody>\n",
       "</table>\n",
       "</div>"
      ],
      "text/plain": [
       "                                                 url  \\\n",
       "0  https://youm7.com/story/2021/9/3/قصة-صور-بيرسي...   \n",
       "1  https://youm7.com/story/2021/9/3/شيكابالا-يُفج...   \n",
       "2  https://youm7.com/story/2021/9/3/حارس-يد-الأهل...   \n",
       "3  https://youm7.com/story/2021/9/3/سلمى-على-تخسر...   \n",
       "4  https://youm7.com/story/2021/9/3/الغندور-يعلن-...   \n",
       "\n",
       "                                               title  \\\n",
       "0  قصة صور.. بيرسي تاو اللاعب الذى تحدى المنطق وا...   \n",
       "1  شيكابالا يُفجر مفاجأة: أيمن حفنى هو من كان سيت...   \n",
       "2  حارس يد الأهلى: حققنا كأس الكؤوس الأفريقية عن...   \n",
       "3  سلمى على تخسر من بطلة العالم فى الباراتايكوندو...   \n",
       "4  الغندور يعلن قيمة انتقال بامبو من الزمالك للبن...   \n",
       "\n",
       "                                               image          writer  \\\n",
       "0  https://img.youm7.com/large/20210902045001501.jpg     ت أسماء عمر   \n",
       "1  https://img.youm7.com/large/202108281029342934...   عمرو جاب الله   \n",
       "2  https://img.youm7.com/large/20210903014204424.jpg  محمد تهامى زكى   \n",
       "3  https://img.youm7.com/large/202109030330243024...     رسالة طوكيو   \n",
       "4  https://img.youm7.com/large/202007090950485048...     ت أسماء عمر   \n",
       "\n",
       "                                                tags  \\\n",
       "0     بيرسى تاو,صن داونز,الاهلى,برياتون,اخبار الاهلى   \n",
       "1  شيكابالا,الزمالك,نادى الزمالك,اخبار الزمالك ال...   \n",
       "2  الاهلى,عصام الطيار,فريق الاهلى الكرة اليد,كاس ...   \n",
       "3  سلمى على,الالعاب البارالمبية,دورة الالعاب البا...   \n",
       "4  كريم بامبو,الزمالك,نادى الزمالك,البنك الاهلى,ا...   \n",
       "\n",
       "                                             article  \n",
       "0  \"اخترت التاريخ\"، كانت الجملة الأولى التى فسر م...  \n",
       "1  فجر محمود عبد الرازق شيكابالا، قائد الزمالك، م...  \n",
       "2  أعرب محمد عصام الطيار، حارس مرمى النادى الأهلى...  \n",
       "3  خسرت سلمى على، لاعبة المنتخب الوطنى للتايكوندو...  \n",
       "4  كشف خالد الغندور نجم الزمالك السابق، عن قيمة ص...  "
      ]
     },
     "execution_count": 94,
     "metadata": {},
     "output_type": "execute_result"
    }
   ],
   "source": [
    "df.head()"
   ]
  },
  {
   "cell_type": "code",
   "execution_count": 95,
   "metadata": {},
   "outputs": [],
   "source": [
    "df.to_excel('articles.xlsx',index=False,encoding='utf-8')"
   ]
  },
  {
   "cell_type": "code",
   "execution_count": null,
   "metadata": {},
   "outputs": [],
   "source": []
  },
  {
   "cell_type": "code",
   "execution_count": 105,
   "metadata": {},
   "outputs": [
    {
     "data": {
      "text/plain": [
       "<title> Gold Price in Egypt - Today Gold Rate per Gram in EGP (Pound)  </title>"
      ]
     },
     "execution_count": 105,
     "metadata": {},
     "output_type": "execute_result"
    }
   ],
   "source": [
    "data = requests.get('http://goldpricez.com/eg/gram').text\n",
    "soup = BeautifulSoup(data)\n",
    "soup.title"
   ]
  },
  {
   "cell_type": "code",
   "execution_count": 113,
   "metadata": {},
   "outputs": [
    {
     "data": {
      "text/plain": [
       "[<td class=\"header2_center\">1    Gram Gold Price </td>,\n",
       " <td>  915.57 EGP </td>,\n",
       " <td class=\"header2_center\">  5 Gram Gold Price </td>,\n",
       " <td> 4577.84 EGP  </td>,\n",
       " <td class=\"header2_center\"> 10 Gram Gold Price </td>,\n",
       " <td> 9155.67 EGP  </td>,\n",
       " <td class=\"header2_center\">  20 Gram Gold Price </td>,\n",
       " <td> 18311.34 EGP </td>,\n",
       " <td class=\"header2_center\">  40 Gram Gold Price </td>,\n",
       " <td> 36622.68 EGP </td>,\n",
       " <td class=\"header2_center\">  50 Gram Gold Price </td>,\n",
       " <td> 45778.36 EGP </td>,\n",
       " <td class=\"header2_center\">  100 Gram Gold Price </td>,\n",
       " <td> 91556.71 EGP </td>,\n",
       " <td class=\"header2_center\">  1000 Gram Gold Price </td>,\n",
       " <td> 915567.1 EGP </td>]"
      ]
     },
     "execution_count": 113,
     "metadata": {},
     "output_type": "execute_result"
    }
   ],
   "source": [
    "tds = soup.find('div',attrs={'class':'col c6 ccenter'}).find('table').findAll('td')\n",
    "tds"
   ]
  },
  {
   "cell_type": "code",
   "execution_count": 120,
   "metadata": {},
   "outputs": [],
   "source": [
    "i = 1\n",
    "prices = []\n",
    "quantities = []\n",
    "for td in tds:\n",
    "    if i % 2==0:\n",
    "        prices.append(td.text.strip())\n",
    "    else:\n",
    "        quantities.append(td.text.strip())\n",
    "    i +=1"
   ]
  },
  {
   "cell_type": "code",
   "execution_count": 121,
   "metadata": {},
   "outputs": [
    {
     "data": {
      "text/plain": [
       "(['915.57 EGP',\n",
       "  '4577.84 EGP',\n",
       "  '9155.67 EGP',\n",
       "  '18311.34 EGP',\n",
       "  '36622.68 EGP',\n",
       "  '45778.36 EGP',\n",
       "  '91556.71 EGP',\n",
       "  '915567.1 EGP'],\n",
       " ['1    Gram Gold Price',\n",
       "  '5 Gram Gold Price',\n",
       "  '10 Gram Gold Price',\n",
       "  '20 Gram Gold Price',\n",
       "  '40 Gram Gold Price',\n",
       "  '50 Gram Gold Price',\n",
       "  '100 Gram Gold Price',\n",
       "  '1000 Gram Gold Price'])"
      ]
     },
     "execution_count": 121,
     "metadata": {},
     "output_type": "execute_result"
    }
   ],
   "source": [
    "prices,quantities"
   ]
  },
  {
   "cell_type": "code",
   "execution_count": 122,
   "metadata": {},
   "outputs": [
    {
     "data": {
      "text/html": [
       "<div>\n",
       "<style scoped>\n",
       "    .dataframe tbody tr th:only-of-type {\n",
       "        vertical-align: middle;\n",
       "    }\n",
       "\n",
       "    .dataframe tbody tr th {\n",
       "        vertical-align: top;\n",
       "    }\n",
       "\n",
       "    .dataframe thead th {\n",
       "        text-align: right;\n",
       "    }\n",
       "</style>\n",
       "<table border=\"1\" class=\"dataframe\">\n",
       "  <thead>\n",
       "    <tr style=\"text-align: right;\">\n",
       "      <th></th>\n",
       "      <th>price</th>\n",
       "      <th>Quantity</th>\n",
       "    </tr>\n",
       "  </thead>\n",
       "  <tbody>\n",
       "    <tr>\n",
       "      <th>0</th>\n",
       "      <td>915.57 EGP</td>\n",
       "      <td>1    Gram Gold Price</td>\n",
       "    </tr>\n",
       "    <tr>\n",
       "      <th>1</th>\n",
       "      <td>4577.84 EGP</td>\n",
       "      <td>5 Gram Gold Price</td>\n",
       "    </tr>\n",
       "    <tr>\n",
       "      <th>2</th>\n",
       "      <td>9155.67 EGP</td>\n",
       "      <td>10 Gram Gold Price</td>\n",
       "    </tr>\n",
       "    <tr>\n",
       "      <th>3</th>\n",
       "      <td>18311.34 EGP</td>\n",
       "      <td>20 Gram Gold Price</td>\n",
       "    </tr>\n",
       "    <tr>\n",
       "      <th>4</th>\n",
       "      <td>36622.68 EGP</td>\n",
       "      <td>40 Gram Gold Price</td>\n",
       "    </tr>\n",
       "    <tr>\n",
       "      <th>5</th>\n",
       "      <td>45778.36 EGP</td>\n",
       "      <td>50 Gram Gold Price</td>\n",
       "    </tr>\n",
       "    <tr>\n",
       "      <th>6</th>\n",
       "      <td>91556.71 EGP</td>\n",
       "      <td>100 Gram Gold Price</td>\n",
       "    </tr>\n",
       "    <tr>\n",
       "      <th>7</th>\n",
       "      <td>915567.1 EGP</td>\n",
       "      <td>1000 Gram Gold Price</td>\n",
       "    </tr>\n",
       "  </tbody>\n",
       "</table>\n",
       "</div>"
      ],
      "text/plain": [
       "          price              Quantity\n",
       "0    915.57 EGP  1    Gram Gold Price\n",
       "1   4577.84 EGP     5 Gram Gold Price\n",
       "2   9155.67 EGP    10 Gram Gold Price\n",
       "3  18311.34 EGP    20 Gram Gold Price\n",
       "4  36622.68 EGP    40 Gram Gold Price\n",
       "5  45778.36 EGP    50 Gram Gold Price\n",
       "6  91556.71 EGP   100 Gram Gold Price\n",
       "7  915567.1 EGP  1000 Gram Gold Price"
      ]
     },
     "execution_count": 122,
     "metadata": {},
     "output_type": "execute_result"
    }
   ],
   "source": [
    "pd.DataFrame({'price':prices,'Quantity':quantities})"
   ]
  },
  {
   "cell_type": "code",
   "execution_count": 127,
   "metadata": {},
   "outputs": [
    {
     "data": {
      "text/html": [
       "<div>\n",
       "<style scoped>\n",
       "    .dataframe tbody tr th:only-of-type {\n",
       "        vertical-align: middle;\n",
       "    }\n",
       "\n",
       "    .dataframe tbody tr th {\n",
       "        vertical-align: top;\n",
       "    }\n",
       "\n",
       "    .dataframe thead th {\n",
       "        text-align: right;\n",
       "    }\n",
       "</style>\n",
       "<table border=\"1\" class=\"dataframe\">\n",
       "  <thead>\n",
       "    <tr style=\"text-align: right;\">\n",
       "      <th></th>\n",
       "      <th>Unit</th>\n",
       "      <th>Price</th>\n",
       "    </tr>\n",
       "  </thead>\n",
       "  <tbody>\n",
       "    <tr>\n",
       "      <th>0</th>\n",
       "      <td>1 Gram Gold Price</td>\n",
       "      <td>915.66 EGP</td>\n",
       "    </tr>\n",
       "    <tr>\n",
       "      <th>1</th>\n",
       "      <td>5 Gram Gold Price</td>\n",
       "      <td>4578.29 EGP</td>\n",
       "    </tr>\n",
       "    <tr>\n",
       "      <th>2</th>\n",
       "      <td>10 Gram Gold Price</td>\n",
       "      <td>9156.58 EGP</td>\n",
       "    </tr>\n",
       "    <tr>\n",
       "      <th>3</th>\n",
       "      <td>20 Gram Gold Price</td>\n",
       "      <td>18313.16 EGP</td>\n",
       "    </tr>\n",
       "    <tr>\n",
       "      <th>4</th>\n",
       "      <td>40 Gram Gold Price</td>\n",
       "      <td>36626.32 EGP</td>\n",
       "    </tr>\n",
       "  </tbody>\n",
       "</table>\n",
       "</div>"
      ],
      "text/plain": [
       "                 Unit         Price\n",
       "0   1 Gram Gold Price    915.66 EGP\n",
       "1   5 Gram Gold Price   4578.29 EGP\n",
       "2  10 Gram Gold Price   9156.58 EGP\n",
       "3  20 Gram Gold Price  18313.16 EGP\n",
       "4  40 Gram Gold Price  36626.32 EGP"
      ]
     },
     "execution_count": 127,
     "metadata": {},
     "output_type": "execute_result"
    }
   ],
   "source": [
    "df = pd.read_html('http://goldpricez.com/eg/gram')[-2]\n",
    "df.columns = ['Unit','Price']\n",
    "df.head()"
   ]
  },
  {
   "cell_type": "code",
   "execution_count": 129,
   "metadata": {},
   "outputs": [
    {
     "data": {
      "text/html": [
       "<div>\n",
       "<style scoped>\n",
       "    .dataframe tbody tr th:only-of-type {\n",
       "        vertical-align: middle;\n",
       "    }\n",
       "\n",
       "    .dataframe tbody tr th {\n",
       "        vertical-align: top;\n",
       "    }\n",
       "\n",
       "    .dataframe thead th {\n",
       "        text-align: right;\n",
       "    }\n",
       "</style>\n",
       "<table border=\"1\" class=\"dataframe\">\n",
       "  <thead>\n",
       "    <tr style=\"text-align: right;\">\n",
       "      <th></th>\n",
       "      <th>Unit</th>\n",
       "      <th>Price</th>\n",
       "    </tr>\n",
       "  </thead>\n",
       "  <tbody>\n",
       "    <tr>\n",
       "      <th>0</th>\n",
       "      <td>1</td>\n",
       "      <td>915.66</td>\n",
       "    </tr>\n",
       "    <tr>\n",
       "      <th>1</th>\n",
       "      <td>5</td>\n",
       "      <td>4578.29</td>\n",
       "    </tr>\n",
       "    <tr>\n",
       "      <th>2</th>\n",
       "      <td>10</td>\n",
       "      <td>9156.58</td>\n",
       "    </tr>\n",
       "    <tr>\n",
       "      <th>3</th>\n",
       "      <td>20</td>\n",
       "      <td>18313.16</td>\n",
       "    </tr>\n",
       "    <tr>\n",
       "      <th>4</th>\n",
       "      <td>40</td>\n",
       "      <td>36626.32</td>\n",
       "    </tr>\n",
       "  </tbody>\n",
       "</table>\n",
       "</div>"
      ],
      "text/plain": [
       "  Unit     Price\n",
       "0    1    915.66\n",
       "1    5   4578.29\n",
       "2   10   9156.58\n",
       "3   20  18313.16\n",
       "4   40  36626.32"
      ]
     },
     "execution_count": 129,
     "metadata": {},
     "output_type": "execute_result"
    }
   ],
   "source": [
    "df['Price'] = df.Price.apply(lambda x : x.split()[0])\n",
    "df['Unit'] = df.Unit.apply(lambda x : x.split()[0])\n",
    "df.head()"
   ]
  },
  {
   "cell_type": "code",
   "execution_count": null,
   "metadata": {},
   "outputs": [],
   "source": []
  }
 ],
 "metadata": {
  "kernelspec": {
   "display_name": "Python 3",
   "language": "python",
   "name": "python3"
  },
  "language_info": {
   "codemirror_mode": {
    "name": "ipython",
    "version": 3
   },
   "file_extension": ".py",
   "mimetype": "text/x-python",
   "name": "python",
   "nbconvert_exporter": "python",
   "pygments_lexer": "ipython3",
   "version": "3.8.5"
  }
 },
 "nbformat": 4,
 "nbformat_minor": 4
}
